{
 "cells": [
  {
   "cell_type": "markdown",
   "id": "1d5bc467",
   "metadata": {},
   "source": [
    "## Evaluation metrics\n",
    "\n",
    "### Most common metrics used in classification problem\n",
    "* Accuracy\n",
    "* Precision(P)\n",
    "* Recall(R)\n",
    "* F1 score(F1)\n",
    "* Area under the ROC (Receiver Operating Characteristic) curve or simply AUC\n",
    "* Log loss\n",
    "* Precision at k(P@k)\n",
    "* Average precision at k(AP@k)\n",
    "* Mean average precision at k(MAP@k)\n",
    "\n",
    "### Most commom metrics used in regression problem\n",
    "* Mean Absolute error(MAE)\n",
    "* Mean squard error(MSE)\n",
    "* Root mean squared error(RMSE)\n",
    "* Root mean squared logarithmic error(RMSLE)\n",
    "* Mean parcentage error(MPE)\n",
    "* Mean absolute percentage error(MAPE)\n",
    "* R^2"
   ]
  },
  {
   "cell_type": "markdown",
   "id": "25bfd538",
   "metadata": {},
   "source": [
    "## Accuracy"
   ]
  },
  {
   "cell_type": "code",
   "execution_count": 3,
   "id": "0285ceaf",
   "metadata": {},
   "outputs": [],
   "source": [
    "def accuracy(y_true, y_pred):\n",
    "    \"\"\"\n",
    "    Function to calculate accuracy\n",
    "    :parm y_true: list of true values\n",
    "    :parm y_pred: list of predicted values\n",
    "    :return: accuracy score\n",
    "    \"\"\"\n",
    "    # Initialize a simple counter for correct predictions\n",
    "    correct_counter = 0\n",
    "    \n",
    "    # Loop over all the elements of y_true and y_pred together\n",
    "    for yt, yp in zip(y_true, y_pred):\n",
    "        if yt == yp:\n",
    "            # if prediction is equal to truth, increase the counter\n",
    "            correct_counter += 1\n",
    "    \n",
    "    # return accuracy which is correct predictions over the number of samples\n",
    "    return correct_counter / len(y_true)"
   ]
  },
  {
   "cell_type": "code",
   "execution_count": 4,
   "id": "d72b73b9",
   "metadata": {},
   "outputs": [],
   "source": [
    "l1 = [0,1,1,1,0,0,0,1]\n",
    "l2 = [0,1,0,1,0,1,0,0]"
   ]
  },
  {
   "cell_type": "code",
   "execution_count": 5,
   "id": "9748c0ac",
   "metadata": {},
   "outputs": [
    {
     "data": {
      "text/plain": [
       "0.625"
      ]
     },
     "execution_count": 5,
     "metadata": {},
     "output_type": "execute_result"
    }
   ],
   "source": [
    "accuracy(l1,l2)"
   ]
  },
  {
   "cell_type": "code",
   "execution_count": 6,
   "id": "769d9ed6",
   "metadata": {},
   "outputs": [
    {
     "data": {
      "text/plain": [
       "0.625"
      ]
     },
     "execution_count": 6,
     "metadata": {},
     "output_type": "execute_result"
    }
   ],
   "source": [
    "# Also we can calculate accuracy using scikit-learn\n",
    "from sklearn import metrics\n",
    "metrics.accuracy_score(l1, l2)"
   ]
  },
  {
   "cell_type": "markdown",
   "id": "548b888a",
   "metadata": {},
   "source": [
    "## True positive, True negative, False positive, False negative"
   ]
  },
  {
   "cell_type": "markdown",
   "id": "53b5c345",
   "metadata": {},
   "source": [
    "* If the model correctly predicts positive class, it is true positive, and if your model correctly predicts negative class, it is true negative.\n",
    "* If the model incorrectly predicts positive class, it is false positive, and if your model incorrectly predicts negative class, it is false negative."
   ]
  },
  {
   "cell_type": "markdown",
   "id": "edec3ff7",
   "metadata": {},
   "source": [
    "### True positive"
   ]
  },
  {
   "cell_type": "code",
   "execution_count": 13,
   "id": "cf5e79d9",
   "metadata": {},
   "outputs": [],
   "source": [
    "def true_positive(y_true, y_pred):\n",
    "    \"\"\"\n",
    "    Function to calculate True Positive\n",
    "    :Param y_true: list of true values\n",
    "    :Param y_pred: list of predicted values\n",
    "    :return: number of true positive\n",
    "    \"\"\"\n",
    "    # initialize\n",
    "    tp = 0\n",
    "    for yt, yp in zip(y_true, y_pred):\n",
    "        if yt == 1 and yp == 1:\n",
    "            tp += 1\n",
    "    return tp"
   ]
  },
  {
   "cell_type": "markdown",
   "id": "6bced422",
   "metadata": {},
   "source": [
    "### True negative"
   ]
  },
  {
   "cell_type": "code",
   "execution_count": 14,
   "id": "1ff7f4ca",
   "metadata": {},
   "outputs": [],
   "source": [
    "def true_negative(y_true, y_pred):\n",
    "    tn = 0\n",
    "    for yt, yp in zip(y_true, y_pred):\n",
    "        if yt == 0 and yp == 0:\n",
    "            tn += 1\n",
    "    return tn"
   ]
  },
  {
   "cell_type": "markdown",
   "id": "b0f4a1f1",
   "metadata": {},
   "source": [
    "### False positive"
   ]
  },
  {
   "cell_type": "code",
   "execution_count": 15,
   "id": "fa349028",
   "metadata": {},
   "outputs": [],
   "source": [
    "def false_positive(y_true, y_pred):\n",
    "    fp = 0\n",
    "    for yt, yp in zip(y_true, y_pred):\n",
    "        if yt == 0 and yp == 1:\n",
    "            fp += 1\n",
    "    return fp"
   ]
  },
  {
   "cell_type": "markdown",
   "id": "ac420509",
   "metadata": {},
   "source": [
    "### False negative"
   ]
  },
  {
   "cell_type": "code",
   "execution_count": 16,
   "id": "2aeec896",
   "metadata": {},
   "outputs": [],
   "source": [
    "def false_negative(y_true, y_pred):\n",
    "    fn = 0\n",
    "    for yt, yp in zip(y_true, y_pred):\n",
    "        if yt == 1 and yp == 0:\n",
    "            fn += 1\n",
    "    return fn"
   ]
  },
  {
   "cell_type": "code",
   "execution_count": 17,
   "id": "3de8a529",
   "metadata": {},
   "outputs": [],
   "source": [
    "# Checking the function\n",
    "l1 = [0,1,1,1,0,0,0,1]\n",
    "l2 = [0,1,0,1,0,1,0,0]"
   ]
  },
  {
   "cell_type": "code",
   "execution_count": 18,
   "id": "b6551e55",
   "metadata": {},
   "outputs": [
    {
     "data": {
      "text/plain": [
       "2"
      ]
     },
     "execution_count": 18,
     "metadata": {},
     "output_type": "execute_result"
    }
   ],
   "source": [
    "true_positive(l1,l2)"
   ]
  },
  {
   "cell_type": "code",
   "execution_count": 19,
   "id": "4f1106f5",
   "metadata": {},
   "outputs": [
    {
     "data": {
      "text/plain": [
       "3"
      ]
     },
     "execution_count": 19,
     "metadata": {},
     "output_type": "execute_result"
    }
   ],
   "source": [
    "true_negative(l1,l2)"
   ]
  },
  {
   "cell_type": "code",
   "execution_count": 20,
   "id": "f59aadf8",
   "metadata": {},
   "outputs": [
    {
     "data": {
      "text/plain": [
       "1"
      ]
     },
     "execution_count": 20,
     "metadata": {},
     "output_type": "execute_result"
    }
   ],
   "source": [
    "false_positive(l1,l2)"
   ]
  },
  {
   "cell_type": "code",
   "execution_count": 21,
   "id": "8f1733e3",
   "metadata": {},
   "outputs": [
    {
     "data": {
      "text/plain": [
       "2"
      ]
     },
     "execution_count": 21,
     "metadata": {},
     "output_type": "execute_result"
    }
   ],
   "source": [
    "false_negative(l1,l2)"
   ]
  },
  {
   "cell_type": "markdown",
   "id": "207c9345",
   "metadata": {},
   "source": [
    "### Accuracy Score Function"
   ]
  },
  {
   "cell_type": "code",
   "execution_count": 28,
   "id": "7cce3202",
   "metadata": {},
   "outputs": [],
   "source": [
    "def accuracy_score(y_true, y_pred):\n",
    "    accuracy = (true_positive(y_true, y_pred) + true_negative(y_true, y_pred)) / (true_positive(y_true, y_pred) + true_negative(y_true, y_pred) + false_positive(y_true, y_pred) + false_negative(y_true, y_pred))\n",
    "        \n",
    "    return accuracy"
   ]
  },
  {
   "cell_type": "code",
   "execution_count": 29,
   "id": "1392bc2e",
   "metadata": {},
   "outputs": [
    {
     "data": {
      "text/plain": [
       "0.625"
      ]
     },
     "execution_count": 29,
     "metadata": {},
     "output_type": "execute_result"
    }
   ],
   "source": [
    "accuracy_score(l1,l2)"
   ]
  },
  {
   "cell_type": "code",
   "execution_count": 32,
   "id": "a2f30f97",
   "metadata": {},
   "outputs": [],
   "source": [
    "def accuracy_score_v2(y_true, y_pred):\n",
    "    tp = true_positive(y_true, y_pred)\n",
    "    tn = true_negative(y_true, y_pred)\n",
    "    fp = false_positive(y_true, y_pred)\n",
    "    fn = false_negative(y_true, y_pred)\n",
    "    \n",
    "    # Formula for finding accuracy\n",
    "    accuracy = (tp + tn) / (tp + tn + fp + fn)\n",
    "    return accuracy\n"
   ]
  },
  {
   "cell_type": "code",
   "execution_count": 33,
   "id": "19f91da6",
   "metadata": {},
   "outputs": [
    {
     "data": {
      "text/plain": [
       "0.625"
      ]
     },
     "execution_count": 33,
     "metadata": {},
     "output_type": "execute_result"
    }
   ],
   "source": [
    "accuracy_score_v2(l1,l2)"
   ]
  },
  {
   "cell_type": "code",
   "execution_count": 34,
   "id": "b0157301",
   "metadata": {},
   "outputs": [
    {
     "data": {
      "text/plain": [
       "0.625"
      ]
     },
     "execution_count": 34,
     "metadata": {},
     "output_type": "execute_result"
    }
   ],
   "source": [
    "# Using scikit-learn\n",
    "from sklearn import metrics\n",
    "metrics.accuracy_score(l1,l2)"
   ]
  },
  {
   "cell_type": "markdown",
   "id": "14d28ce6",
   "metadata": {},
   "source": [
    "### Precision"
   ]
  },
  {
   "cell_type": "markdown",
   "id": "e3eee268",
   "metadata": {},
   "source": [
    "* precision = TP / (TP + FP)"
   ]
  },
  {
   "cell_type": "code",
   "execution_count": 35,
   "id": "11664a85",
   "metadata": {},
   "outputs": [],
   "source": [
    "def precision(y_true, y_pred):\n",
    "    tp = true_positive(y_true, y_pred)\n",
    "    fp = false_positive(y_true, y_pred)\n",
    "    # Formula of precision\n",
    "    precision = tp / (tp + fp)\n",
    "    return precision"
   ]
  },
  {
   "cell_type": "code",
   "execution_count": 36,
   "id": "a845d2d5",
   "metadata": {},
   "outputs": [
    {
     "data": {
      "text/plain": [
       "0.6666666666666666"
      ]
     },
     "execution_count": 36,
     "metadata": {},
     "output_type": "execute_result"
    }
   ],
   "source": [
    "precision(l1,l2)"
   ]
  },
  {
   "cell_type": "markdown",
   "id": "9c307064",
   "metadata": {},
   "source": [
    "###  Recall\n",
    "* Recall = TP / (TP + FN)"
   ]
  },
  {
   "cell_type": "code",
   "execution_count": 37,
   "id": "4279aee8",
   "metadata": {},
   "outputs": [],
   "source": [
    "def recall(y_true, y_pred):\n",
    "    tp = true_positive(y_true, y_pred)\n",
    "    fn = false_negative(y_true, y_pred)\n",
    "    # Formula of recall\n",
    "    recall = tp / (tp + fn)\n",
    "    return recall"
   ]
  },
  {
   "cell_type": "code",
   "execution_count": 38,
   "id": "5a8676f2",
   "metadata": {},
   "outputs": [
    {
     "data": {
      "text/plain": [
       "0.5"
      ]
     },
     "execution_count": 38,
     "metadata": {},
     "output_type": "execute_result"
    }
   ],
   "source": [
    "recall(l1,l2)"
   ]
  },
  {
   "cell_type": "markdown",
   "id": "c03096c1",
   "metadata": {},
   "source": [
    "### Precision-recall ploting"
   ]
  },
  {
   "cell_type": "code",
   "execution_count": 39,
   "id": "6c346fec",
   "metadata": {},
   "outputs": [],
   "source": [
    "y_true = [0, 0, 0, 1,0,0,0,0, 0, 0,1, 0, 0,0,0,0,0, 0, 1, 0]\n",
    "\n",
    "y_pred = [0.02638412, 0.11114267, 0.31620708,\n",
    "          0.0490937,  0.0191491,  0.17554844,\n",
    "          0.15952202, 0.03819563, 0.11639273,\n",
    "          0.079377,   0.08584789, 0.39095342,\n",
    "          0.27259048, 0.03447096, 0.04644807,\n",
    "          0.03543574, 0.18521942, 0.05934905,\n",
    "          0.61977213, 0.33056815]\n",
    "\n",
    "    "
   ]
  },
  {
   "cell_type": "code",
   "execution_count": 40,
   "id": "b8643bc7",
   "metadata": {},
   "outputs": [],
   "source": [
    "precisions = []\n",
    "recalls =[]\n",
    "\n",
    "# Assumed these thresholds is a long story\n",
    "thresholds = [0.0490937 , 0.05934905, 0.079377, \n",
    "              0.08584789, 0.11114267, 0.11639273,\n",
    "              0.15952202, 0.17554844, 0.18521942,\n",
    "              0.27259048, 0.31620708, 0.33056815,\n",
    "              0.39095342, 0.61977213]\n",
    "\n",
    "# For every threshold, calculate predictions in binary\n",
    "# and append calculated precisions and recall to their respective lists\n",
    "for i in thresholds:\n",
    "    temp_thresholds = [1 if x>=i else 0 for x in y_pred]\n",
    "    p = precision(y_true, temp_thresholds)\n",
    "    r = recall(y_true, temp_thresholds)\n",
    "    \n",
    "    # append the values\n",
    "    precisions.append(p)\n",
    "    recalls.append(r)\n",
    "    \n"
   ]
  },
  {
   "cell_type": "code",
   "execution_count": 48,
   "id": "f8b85ee3",
   "metadata": {},
   "outputs": [
    {
     "data": {
      "text/plain": [
       "Text(0, 0.5, 'Precision')"
      ]
     },
     "execution_count": 48,
     "metadata": {},
     "output_type": "execute_result"
    },
    {
     "data": {
      "image/png": "[encoded data removed]",
      "text/plain": [
       "<Figure size 576x360 with 1 Axes>"
      ]
     },
     "metadata": {
      "needs_background": "light"
     },
     "output_type": "display_data"
    }
   ],
   "source": [
    "# Ploting the precision and recall values\n",
    "import matplotlib.pyplot as plt\n",
    "%matplotlib inline\n",
    "\n",
    "plt.figure(figsize=(8, 5))\n",
    "plt.plot(recalls, precisions)\n",
    "plt.xlabel('Recall', fontsize=12)\n",
    "plt.ylabel('Precision', fontsize=12)"
   ]
  },
  {
   "cell_type": "markdown",
   "id": "49e49523",
   "metadata": {},
   "source": [
    "## F1 score"
   ]
  },
  {
   "cell_type": "code",
   "execution_count": 49,
   "id": "7d8d7f96",
   "metadata": {},
   "outputs": [],
   "source": [
    "def f1(y_true, y_pred):\n",
    "    p = precision(y_true, y_pred)\n",
    "    r = recall(y_true, y_pred)\n",
    "    # Formula for finding f1 score\n",
    "    f1_score = 2 * p * r / (p + r)\n",
    "    return f1_score"
   ]
  },
  {
   "cell_type": "code",
   "execution_count": 51,
   "id": "ca5c1374",
   "metadata": {},
   "outputs": [],
   "source": [
    "y_true = [0, 0, 0, 1, 0, 0, 0, 0, 0, 0, \n",
    "          1, 0, 0, 0, 0, 0, 0, 0, 1, 0]\n",
    "y_pred = [0, 0, 1, 0, 0, 0, 1, 0, 0, 0,\n",
    "          1, 0, 0, 0, 0, 0, 0, 0, 1, 0]"
   ]
  },
  {
   "cell_type": "code",
   "execution_count": 52,
   "id": "ecf6171f",
   "metadata": {},
   "outputs": [
    {
     "data": {
      "text/plain": [
       "0.5714285714285715"
      ]
     },
     "execution_count": 52,
     "metadata": {},
     "output_type": "execute_result"
    }
   ],
   "source": [
    "f1(y_true, y_pred)"
   ]
  },
  {
   "cell_type": "code",
   "execution_count": 53,
   "id": "b34a3e40",
   "metadata": {},
   "outputs": [
    {
     "data": {
      "text/plain": [
       "0.5714285714285715"
      ]
     },
     "execution_count": 53,
     "metadata": {},
     "output_type": "execute_result"
    }
   ],
   "source": [
    "# Finding f1 score using scikit learn\n",
    "from sklearn import metrics\n",
    "metrics.f1_score(y_true, y_pred)"
   ]
  },
  {
   "cell_type": "markdown",
   "id": "f4f13a4e",
   "metadata": {},
   "source": [
    "## Area Under Curve (AUC)\n",
    "* AUC is widely used for skewed binary classification tasks"
   ]
  },
  {
   "cell_type": "markdown",
   "id": "d0647dfb",
   "metadata": {},
   "source": [
    "### True positive rate / recall\n",
    "* TPR = TP / (TP + FN)"
   ]
  },
  {
   "cell_type": "code",
   "execution_count": 61,
   "id": "e4567008",
   "metadata": {},
   "outputs": [],
   "source": [
    "#### True positive rate or recall is known as sensitivity.\n",
    "def tpr(t_true, t_pred):\n",
    "    recall1 = recall(t_true, t_pred)\n",
    "    return recall1"
   ]
  },
  {
   "cell_type": "markdown",
   "id": "a4edccfa",
   "metadata": {},
   "source": [
    "### False Positive Rate\n",
    "* FPR = FP / (FP + TN)"
   ]
  },
  {
   "cell_type": "code",
   "execution_count": 57,
   "id": "6fe63b2e",
   "metadata": {},
   "outputs": [],
   "source": [
    "# FPR is known as specificity or True Negative Rate or TNR\n",
    "def fpr(y_true, y_pred):\n",
    "    fp = false_positive(y_true, y_pred)\n",
    "    tn = true_negative(y_true, y_pred)\n",
    "    return fp / (fp + tn)"
   ]
  },
  {
   "cell_type": "code",
   "execution_count": 62,
   "id": "92c90cba",
   "metadata": {},
   "outputs": [],
   "source": [
    "# lists to store tpr and fpr\n",
    "tpr_list = []\n",
    "fpr_list = []\n",
    "# actual targets\n",
    "y_true = [0, 0, 0, 0, 1, 0, 1, 0, 0, 1, 0, 1, 0, 0, 1]\n",
    "# predicted probabilities of a sample being 1\n",
    "y_pred = [0.1, 0.3, 0.2, 0.6, 0.8, 0.05, 0.9, 0.5, 0.3, 0.66, 0.3, 0.2,\n",
    "            0.85, 0.15, 0.99]\n",
    "# handmade thresholds\n",
    "thresholds = [0, 0.1, 0.2, 0.3, 0.4, 0.5, 0.6, 0.7, 0.8, 0.85, 0.9, 0.99, 1.0]\n",
    "# loop over all thresholds\n",
    "for i in thresholds:\n",
    "    # calculate predictions for a given thresholds\n",
    "    temp_pred = [1 if x >= i else 0 for x in y_pred]\n",
    "    # calculate true positive rate\n",
    "    temp_tpr = tpr(y_true, temp_pred)\n",
    "    # calculate false positive rate\n",
    "    temp_fpr = fpr(y_true, temp_pred)\n",
    "    # append tpr and fpr to lists\n",
    "    tpr_list.append(temp_tpr)\n",
    "    fpr_list.append(temp_fpr)"
   ]
  },
  {
   "cell_type": "code",
   "execution_count": 64,
   "id": "adc61903",
   "metadata": {},
   "outputs": [
    {
     "data": {
      "text/html": [
       "<div>\n",
       "<style scoped>\n",
       "    .dataframe tbody tr th:only-of-type {\n",
       "        vertical-align: middle;\n",
       "    }\n",
       "\n",
       "    .dataframe tbody tr th {\n",
       "        vertical-align: top;\n",
       "    }\n",
       "\n",
       "    .dataframe thead th {\n",
       "        text-align: right;\n",
       "    }\n",
       "</style>\n",
       "<table border=\"1\" class=\"dataframe\">\n",
       "  <thead>\n",
       "    <tr style=\"text-align: right;\">\n",
       "      <th></th>\n",
       "      <th>Threshold</th>\n",
       "      <th>tpr</th>\n",
       "      <th>fpr</th>\n",
       "    </tr>\n",
       "  </thead>\n",
       "  <tbody>\n",
       "    <tr>\n",
       "      <th>0</th>\n",
       "      <td>0.00</td>\n",
       "      <td>1.0</td>\n",
       "      <td>1.0</td>\n",
       "    </tr>\n",
       "    <tr>\n",
       "      <th>1</th>\n",
       "      <td>0.10</td>\n",
       "      <td>1.0</td>\n",
       "      <td>0.9</td>\n",
       "    </tr>\n",
       "    <tr>\n",
       "      <th>2</th>\n",
       "      <td>0.20</td>\n",
       "      <td>1.0</td>\n",
       "      <td>0.7</td>\n",
       "    </tr>\n",
       "    <tr>\n",
       "      <th>3</th>\n",
       "      <td>0.30</td>\n",
       "      <td>0.8</td>\n",
       "      <td>0.6</td>\n",
       "    </tr>\n",
       "    <tr>\n",
       "      <th>4</th>\n",
       "      <td>0.40</td>\n",
       "      <td>0.8</td>\n",
       "      <td>0.3</td>\n",
       "    </tr>\n",
       "    <tr>\n",
       "      <th>5</th>\n",
       "      <td>0.50</td>\n",
       "      <td>0.8</td>\n",
       "      <td>0.3</td>\n",
       "    </tr>\n",
       "    <tr>\n",
       "      <th>6</th>\n",
       "      <td>0.60</td>\n",
       "      <td>0.8</td>\n",
       "      <td>0.2</td>\n",
       "    </tr>\n",
       "    <tr>\n",
       "      <th>7</th>\n",
       "      <td>0.70</td>\n",
       "      <td>0.6</td>\n",
       "      <td>0.1</td>\n",
       "    </tr>\n",
       "    <tr>\n",
       "      <th>8</th>\n",
       "      <td>0.80</td>\n",
       "      <td>0.6</td>\n",
       "      <td>0.1</td>\n",
       "    </tr>\n",
       "    <tr>\n",
       "      <th>9</th>\n",
       "      <td>0.85</td>\n",
       "      <td>0.4</td>\n",
       "      <td>0.1</td>\n",
       "    </tr>\n",
       "    <tr>\n",
       "      <th>10</th>\n",
       "      <td>0.90</td>\n",
       "      <td>0.4</td>\n",
       "      <td>0.0</td>\n",
       "    </tr>\n",
       "    <tr>\n",
       "      <th>11</th>\n",
       "      <td>0.99</td>\n",
       "      <td>0.2</td>\n",
       "      <td>0.0</td>\n",
       "    </tr>\n",
       "    <tr>\n",
       "      <th>12</th>\n",
       "      <td>1.00</td>\n",
       "      <td>0.0</td>\n",
       "      <td>0.0</td>\n",
       "    </tr>\n",
       "  </tbody>\n",
       "</table>\n",
       "</div>"
      ],
      "text/plain": [
       "    Threshold  tpr  fpr\n",
       "0        0.00  1.0  1.0\n",
       "1        0.10  1.0  0.9\n",
       "2        0.20  1.0  0.7\n",
       "3        0.30  0.8  0.6\n",
       "4        0.40  0.8  0.3\n",
       "5        0.50  0.8  0.3\n",
       "6        0.60  0.8  0.2\n",
       "7        0.70  0.6  0.1\n",
       "8        0.80  0.6  0.1\n",
       "9        0.85  0.4  0.1\n",
       "10       0.90  0.4  0.0\n",
       "11       0.99  0.2  0.0\n",
       "12       1.00  0.0  0.0"
      ]
     },
     "execution_count": 64,
     "metadata": {},
     "output_type": "execute_result"
    }
   ],
   "source": [
    "import pandas as pd\n",
    "data = {'Threshold': thresholds, 'tpr': tpr_list, 'fpr': fpr_list}\n",
    "pd.DataFrame(data)"
   ]
  },
  {
   "cell_type": "markdown",
   "id": "282f5854",
   "metadata": {},
   "source": [
    "### ROC curve\n",
    "* Most of the time, the top-left value on ROC curve should give you a quite good threshold, as shown in figure.\n",
    "* Comparing the table and the ROC curve, we see that a threshold of around 0.6 is quite good where we do not lose a lot of true positives and neither we have a lot of false positives."
   ]
  },
  {
   "cell_type": "code",
   "execution_count": 67,
   "id": "b1b0f709",
   "metadata": {},
   "outputs": [
    {
     "data": {
      "image/png": "[encoded data removed]",
      "text/plain": [
       "<Figure size 576x360 with 1 Axes>"
      ]
     },
     "metadata": {
      "needs_background": "light"
     },
     "output_type": "display_data"
    }
   ],
   "source": [
    "# True positive rate and False positive rate or ROC curve\n",
    "plt.figure(figsize=(8,5))\n",
    "plt.fill_between(fpr_list, tpr_list, alpha=0.5)\n",
    "plt.plot(fpr_list, tpr_list, lw=3)\n",
    "plt.xlim(0, 1.0)\n",
    "plt.ylim(0, 1.0)\n",
    "plt.xlabel('FPR', fontsize=15)\n",
    "plt.ylabel('TPR', fontsize=15)\n",
    "plt.show()"
   ]
  },
  {
   "cell_type": "code",
   "execution_count": 68,
   "id": "f36f4e65",
   "metadata": {},
   "outputs": [
    {
     "data": {
      "text/plain": [
       "0.8300000000000001"
      ]
     },
     "execution_count": 68,
     "metadata": {},
     "output_type": "execute_result"
    }
   ],
   "source": [
    "# Using scikit-learn find auc score\n",
    "from sklearn import metrics\n",
    "metrics.roc_auc_score(y_true, y_pred)"
   ]
  },
  {
   "cell_type": "markdown",
   "id": "310881eb",
   "metadata": {},
   "source": [
    "### Log Loss\n",
    "* Log Loss = -1.0 * (target * log(prediction) + (1 - target) * log(1 - prediction))\n",
    "* Log Loss penalizes quite high for an incorrect or a far-off prediction, i.e. log loss punishes you for being very sure and very wrong."
   ]
  },
  {
   "cell_type": "code",
   "execution_count": 72,
   "id": "9f28bdd7",
   "metadata": {},
   "outputs": [],
   "source": [
    "import numpy as np\n",
    "def log_loss(y_true, y_proba):\n",
    "    \"\"\"\n",
    "    Function to calculate log loss\n",
    "    :param y_true: list of true values\n",
    "    :param y_proba: lsit of probabilities for 1\n",
    "    :return: overall log loss\n",
    "    \"\"\"\n",
    "    # Define an epsilon value. This can also be an input.\n",
    "    # This value is used to clip probabilisties\n",
    "    epsilon = 1e-15\n",
    "    # Initialize empty list to store indivisual losses\n",
    "    loss = []\n",
    "    # Loop over all true and predicted probability values\n",
    "    for yt, yp in zip(y_true, y_proba):\n",
    "        # adjust probability\n",
    "        # 0 gets converted to 1e-15\n",
    "        # 1 gets converted to 1-1e-15\n",
    "        yp = np.clip(yp, epsilon, 1-epsilon)\n",
    "        # calculate loss for one sample\n",
    "        temp_loss = -1.0 * (yt * np.log(yp) + (1-yt) * np.log(1 - yp))\n",
    "        # add to loss list\n",
    "        loss.append(temp_loss)\n",
    "        \n",
    "    # return mean loss over all samples\n",
    "    return np.mean(loss)"
   ]
  },
  {
   "cell_type": "code",
   "execution_count": 73,
   "id": "44f09d9d",
   "metadata": {},
   "outputs": [],
   "source": [
    "y_true = [0, 0, 0, 0, 1, 0, 1, 0, 0, 1, 0, 1, 0, 0, 1]\n",
    "y_proba = [0.1, 0.3, 0.2, 0.6, 0.8, 0.05, 0.9, 0.5, 0.3, 0.66, 0.3, 0.2,\n",
    "            0.85, 0.15, 0.99]"
   ]
  },
  {
   "cell_type": "code",
   "execution_count": 74,
   "id": "60b7cebe",
   "metadata": {},
   "outputs": [
    {
     "data": {
      "text/plain": [
       "0.49882711861432294"
      ]
     },
     "execution_count": 74,
     "metadata": {},
     "output_type": "execute_result"
    }
   ],
   "source": [
    "log_loss(y_true, y_proba)"
   ]
  },
  {
   "cell_type": "code",
   "execution_count": 75,
   "id": "9690ec76",
   "metadata": {},
   "outputs": [
    {
     "data": {
      "text/plain": [
       "0.49882711861432294"
      ]
     },
     "execution_count": 75,
     "metadata": {},
     "output_type": "execute_result"
    }
   ],
   "source": [
    "# Finding log loss using scikit-learn\n",
    "from sklearn import metrics\n",
    "metrics.log_loss(y_true, y_proba)"
   ]
  },
  {
   "cell_type": "markdown",
   "id": "2872967e",
   "metadata": {},
   "source": [
    "## Calculate precision and recall for multi-class classification"
   ]
  },
  {
   "cell_type": "markdown",
   "id": "7f521c22",
   "metadata": {},
   "source": [
    "There are three different ways to calculate this which might get confusing from time to time. Let’s assume we are interested in precision first. We know that precision depends on true positives and false positives.\n",
    "- Macro averaged precision: calculate precision for all classes individually and then average them\n",
    "- Micro averaged precision: calculate class wise true positive and false positive and then use that to calculate overall precision\n",
    "- Weighted precision: same as macro but in this case, it is weighted average depending on the number of items in each class"
   ]
  },
  {
   "cell_type": "code",
   "execution_count": 81,
   "id": "c6fd1a06",
   "metadata": {},
   "outputs": [],
   "source": [
    "# Macro averaged precision \n",
    "import numpy as np\n",
    "def macro_precision(y_true, y_pred):\n",
    "    num_class = len(np.unique(y_true))\n",
    "    precision = 0\n",
    "    for class_ in range(num_class):\n",
    "        # all classes except current are considered negative\n",
    "        temp_true = [1 if p == class_ else 0 for p in y_true]\n",
    "        temp_pred = [1 if p == class_ else 0 for p in y_pred]\n",
    "        # calculate true positive for current class\n",
    "        tp = true_positive(temp_true, temp_pred)\n",
    "        # calculate false positive for current class\n",
    "        fp = false_positive(temp_true, temp_pred)\n",
    "        # calculate precision\n",
    "        temp_precision = tp / (tp + fp)\n",
    "        # keep adding precision for all classes\n",
    "        precision += temp_precision\n",
    "    # calculate and return average precision over all classes\n",
    "    precision /= num_class\n",
    "    return precision"
   ]
  },
  {
   "cell_type": "code",
   "execution_count": 77,
   "id": "f5788b41",
   "metadata": {},
   "outputs": [],
   "source": [
    "# Micro Averaged Precision\n",
    "def micro_precision(y_true, y_pred):\n",
    "    num_classes = len(np.unique(y_true))\n",
    "    tp = 0\n",
    "    fp = 0\n",
    "    for class_ in range(num_classes):\n",
    "        temp_true = [1 if p == class_ else 0 for p in y_true]\n",
    "        temp_pred = [1 if p == class_ else 0 for p in y_pred]\n",
    "        # Calculate true positive for current class and update overall tp\n",
    "        tp += true_positive(temp_true, temp_pred)\n",
    "        fp += false_positive(temp_true, temp_pred)\n",
    "        \n",
    "    # calculate and return overall precision\n",
    "    precision = tp / (tp + fp)\n",
    "    return precision"
   ]
  },
  {
   "cell_type": "code",
   "execution_count": 86,
   "id": "64cfb886",
   "metadata": {},
   "outputs": [],
   "source": [
    "# Weighted precision\n",
    "from collections import Counter\n",
    "\n",
    "def weighted_precision(y_true, y_pred):\n",
    "    num_classes = len(np.unique(y_true))\n",
    "    # Create class: sample count dictionary. Looks like\n",
    "    # {0: 20, 1: 15, 2: 21}\n",
    "    class_counts = Counter(y_true)\n",
    "    \n",
    "    precision = 0\n",
    "    \n",
    "    for class_ in range(num_classes):\n",
    "        temp_true = [1 if p == class_ else 0 for p in y_true]\n",
    "        temp_pred = [1 if p == class_ else 0 for p in y_pred]\n",
    "        \n",
    "        tp = true_positive(temp_true, temp_pred)\n",
    "        fp = false_positive(temp_true, temp_pred)\n",
    "        \n",
    "        temp_precision = tp / (tp + fp)\n",
    "        \n",
    "        # multiply precision with count of sample in class\n",
    "        weighted_precision = class_counts[class_] * temp_precision\n",
    "        \n",
    "        # add to overall precision\n",
    "        precision += weighted_precision\n",
    "        \n",
    "    # Calculate overall precision by dividing by total number of samples\n",
    "    overall_precision = precision / len(y_true)\n",
    "    return overall_precision"
   ]
  },
  {
   "cell_type": "code",
   "execution_count": 79,
   "id": "491cd14a",
   "metadata": {},
   "outputs": [],
   "source": [
    "y_true = [0, 1, 2, 0, 1, 2, 0, 2, 2]\n",
    "y_pred = [0, 2, 1, 0, 2, 1, 0, 0, 2]"
   ]
  },
  {
   "cell_type": "code",
   "execution_count": 82,
   "id": "d833f2e9",
   "metadata": {},
   "outputs": [
    {
     "data": {
      "text/plain": [
       "0.3611111111111111"
      ]
     },
     "execution_count": 82,
     "metadata": {},
     "output_type": "execute_result"
    }
   ],
   "source": [
    "macro_precision(y_true, y_pred)"
   ]
  },
  {
   "cell_type": "code",
   "execution_count": 83,
   "id": "d4ed8550",
   "metadata": {},
   "outputs": [
    {
     "data": {
      "text/plain": [
       "0.4444444444444444"
      ]
     },
     "execution_count": 83,
     "metadata": {},
     "output_type": "execute_result"
    }
   ],
   "source": [
    "micro_precision(y_true, y_pred)"
   ]
  },
  {
   "cell_type": "code",
   "execution_count": 87,
   "id": "1147ee5b",
   "metadata": {},
   "outputs": [
    {
     "data": {
      "text/plain": [
       "0.39814814814814814"
      ]
     },
     "execution_count": 87,
     "metadata": {},
     "output_type": "execute_result"
    }
   ],
   "source": [
    "weighted_precision(y_true, y_pred)"
   ]
  },
  {
   "cell_type": "code",
   "execution_count": 88,
   "id": "37652bb9",
   "metadata": {},
   "outputs": [],
   "source": [
    "# Implementation with scikit-learn\n",
    "from sklearn import metrics"
   ]
  },
  {
   "cell_type": "code",
   "execution_count": 89,
   "id": "40b187c4",
   "metadata": {},
   "outputs": [
    {
     "data": {
      "text/plain": [
       "0.3611111111111111"
      ]
     },
     "execution_count": 89,
     "metadata": {},
     "output_type": "execute_result"
    }
   ],
   "source": [
    "metrics.precision_score(y_true, y_pred, average='macro')"
   ]
  },
  {
   "cell_type": "code",
   "execution_count": 90,
   "id": "39b6e74d",
   "metadata": {},
   "outputs": [
    {
     "data": {
      "text/plain": [
       "0.4444444444444444"
      ]
     },
     "execution_count": 90,
     "metadata": {},
     "output_type": "execute_result"
    }
   ],
   "source": [
    "metrics.precision_score(y_true, y_pred, average='micro')"
   ]
  },
  {
   "cell_type": "code",
   "execution_count": 91,
   "id": "45683d9d",
   "metadata": {},
   "outputs": [
    {
     "data": {
      "text/plain": [
       "0.39814814814814814"
      ]
     },
     "execution_count": 91,
     "metadata": {},
     "output_type": "execute_result"
    }
   ],
   "source": [
    "metrics.precision_score(y_true, y_pred, average='weighted')"
   ]
  },
  {
   "cell_type": "markdown",
   "id": "b8ebe052",
   "metadata": {},
   "source": [
    "### Weighted F1 Score"
   ]
  },
  {
   "cell_type": "code",
   "execution_count": 98,
   "id": "10e63380",
   "metadata": {},
   "outputs": [],
   "source": [
    "from collections import Counter\n",
    "import numpy as np\n",
    "\n",
    "def weighted_f1(y_true, y_pred):\n",
    "    num_classes = len(np.unique(y_true))\n",
    "    class_counts = Counter(y_true)\n",
    "    f1 = 0\n",
    "    \n",
    "    for class_ in range(num_classes):\n",
    "        temp_true = [1 if p == class_ else 0 for p in y_true]\n",
    "        temp_pred = [1 if p == class_ else 0 for p in y_pred]\n",
    "        \n",
    "        # calculate precision and recall for class\n",
    "        p = precision(temp_true, temp_pred)\n",
    "        r = recall(temp_true, temp_pred)\n",
    "        \n",
    "        # calculate f1 of class\n",
    "        if p + r != 0:\n",
    "            temp_f1 = 2 * p * r / (p + r)\n",
    "        else: \n",
    "            temp_f1 = 0\n",
    "            \n",
    "        # multiply f1 with count of samples in class\n",
    "        weighted_f1 =  class_counts[class_] * temp_f1 \n",
    "        \n",
    "        # add to f1 precision\n",
    "        f1 += weighted_f1\n",
    "        \n",
    "        # Calculate overall F1 by dividing by total number of samples\n",
    "        overall_f1 = f1 / len(y_true)\n",
    "        return overall_f1\n",
    "    "
   ]
  },
  {
   "cell_type": "code",
   "execution_count": 99,
   "id": "716f011f",
   "metadata": {},
   "outputs": [],
   "source": [
    "y_true = [0, 1, 2, 0, 1, 2, 0, 2, 2]\n",
    "y_pred = [0, 2, 1, 0, 2, 1, 0, 0, 2]"
   ]
  },
  {
   "cell_type": "code",
   "execution_count": 100,
   "id": "33bea3e4",
   "metadata": {},
   "outputs": [
    {
     "data": {
      "text/plain": [
       "0.2857142857142857"
      ]
     },
     "execution_count": 100,
     "metadata": {},
     "output_type": "execute_result"
    }
   ],
   "source": [
    "weighted_f1(y_true, y_pred)"
   ]
  },
  {
   "cell_type": "code",
   "execution_count": 97,
   "id": "561c5d40",
   "metadata": {},
   "outputs": [
    {
     "data": {
      "text/plain": [
       "0.41269841269841273"
      ]
     },
     "execution_count": 97,
     "metadata": {},
     "output_type": "execute_result"
    }
   ],
   "source": [
    "metrics.f1_score(y_true, y_pred, average='weighted')"
   ]
  },
  {
   "cell_type": "markdown",
   "id": "4ae24d85",
   "metadata": {},
   "source": [
    "## Confusion matrix\n",
    "* Confusion matrix is a table of TP, FP, TN, FN.\n",
    "* If we have N classes, then it will be a matrix of size NxN"
   ]
  },
  {
   "cell_type": "code",
   "execution_count": 108,
   "id": "8fcfed77",
   "metadata": {},
   "outputs": [
    {
     "data": {
      "text/plain": [
       "Text(25.5, 0.5, 'Predicted Labels')"
      ]
     },
     "execution_count": 108,
     "metadata": {},
     "output_type": "execute_result"
    },
    {
     "data": {
      "image/png": "[encoded data removed]",
      "text/plain": [
       "<Figure size 432x432 with 1 Axes>"
      ]
     },
     "metadata": {},
     "output_type": "display_data"
    }
   ],
   "source": [
    "import matplotlib.pyplot as plt\n",
    "import seaborn as sns\n",
    "from sklearn import metrics\n",
    "\n",
    "y_true = [0, 1, 2, 0, 1, 2, 0, 2, 2]\n",
    "y_pred = [0, 2, 1, 0, 2, 1, 0, 0, 2]\n",
    "\n",
    "cm = metrics.confusion_matrix(y_true, y_pred)\n",
    "\n",
    "# ploting using matplotlib and seaborn\n",
    "plt.figure(figsize=(6, 6))\n",
    "cmap = sns.cubehelix_palette(50, hue=0.05, rot=0, light=0.9, dark=0, as_cmap=True)\n",
    "sns.set(font_scale=1.5)\n",
    "sns.heatmap(cm, annot=True, cmap=cmap, cbar=False)\n",
    "plt.xlabel('Actual Labels', fontsize=15)\n",
    "plt.ylabel('Predicted Labels', fontsize=15)"
   ]
  },
  {
   "cell_type": "markdown",
   "id": "8dca669b",
   "metadata": {},
   "source": [
    "## Multi-label classification\n",
    "* Precision at k(P@k)\n",
    "* Average precision at k(AP@k)\n",
    "* Mean Average precision at k(MAP@k)\n",
    "* Log Loss"
   ]
  },
  {
   "cell_type": "markdown",
   "id": "8571d7fe",
   "metadata": {},
   "source": [
    "### Precision at k or P@k"
   ]
  },
  {
   "cell_type": "code",
   "execution_count": 110,
   "id": "1fd80a4b",
   "metadata": {},
   "outputs": [],
   "source": [
    "def pk(y_true, y_pred, k):\n",
    "    # if k is 0, return 0, k have to be >= 1\n",
    "    if k == 0:\n",
    "        return 0\n",
    "    # we are interested only in top-k predictions\n",
    "    y_pred = y_pred[:k]\n",
    "    # convert actual values and prediction to set\n",
    "    true_set = set(y_true)\n",
    "    pred_set = set(y_pred)\n",
    "    # find common values\n",
    "    common_values = pred_set.intersection(true_set)\n",
    "    # return lenght of common values over k\n",
    "    return len(common_values) / len(y_pred[:k])"
   ]
  },
  {
   "cell_type": "markdown",
   "id": "6c8e3902",
   "metadata": {},
   "source": [
    "### Average precision at k or AP@k"
   ]
  },
  {
   "cell_type": "code",
   "execution_count": 111,
   "id": "2a9b6cd3",
   "metadata": {},
   "outputs": [],
   "source": [
    "def apk(y_true, y_pred, k):\n",
    "    pk_values = []\n",
    "    \n",
    "    for i in range(1, k+1):\n",
    "        pk_values.append(pk(y_true, y_pred, i))\n",
    "        \n",
    "    # if we have no values in the list, return 0\n",
    "    if len(pk_values) == 0:\n",
    "        return 0\n",
    "    # else we return the sum of list over length of list\n",
    "    return sum(pk_values) / len(pk_values)"
   ]
  },
  {
   "cell_type": "code",
   "execution_count": 113,
   "id": "29aa3c37",
   "metadata": {
    "scrolled": true
   },
   "outputs": [
    {
     "name": "stdout",
     "output_type": "stream",
     "text": [
      "\n",
      "            y_true = [1, 2, 3],\n",
      "            y_pred = [0, 1, 2],\n",
      "            AP@1 = 0.0\n",
      "            \n",
      "\n",
      "            y_true = [1, 2, 3],\n",
      "            y_pred = [0, 1, 2],\n",
      "            AP@2 = 0.25\n",
      "            \n",
      "\n",
      "            y_true = [1, 2, 3],\n",
      "            y_pred = [0, 1, 2],\n",
      "            AP@3 = 0.38888888888888884\n",
      "            \n",
      "\n",
      "            y_true = [0, 2],\n",
      "            y_pred = [1],\n",
      "            AP@1 = 0.0\n",
      "            \n",
      "\n",
      "            y_true = [0, 2],\n",
      "            y_pred = [1],\n",
      "            AP@2 = 0.0\n",
      "            \n",
      "\n",
      "            y_true = [0, 2],\n",
      "            y_pred = [1],\n",
      "            AP@3 = 0.0\n",
      "            \n",
      "\n",
      "            y_true = [1],\n",
      "            y_pred = [0, 2, 3],\n",
      "            AP@1 = 0.0\n",
      "            \n",
      "\n",
      "            y_true = [1],\n",
      "            y_pred = [0, 2, 3],\n",
      "            AP@2 = 0.0\n",
      "            \n",
      "\n",
      "            y_true = [1],\n",
      "            y_pred = [0, 2, 3],\n",
      "            AP@3 = 0.0\n",
      "            \n",
      "\n",
      "            y_true = [2, 3],\n",
      "            y_pred = [2, 3, 4, 0],\n",
      "            AP@1 = 1.0\n",
      "            \n",
      "\n",
      "            y_true = [2, 3],\n",
      "            y_pred = [2, 3, 4, 0],\n",
      "            AP@2 = 1.0\n",
      "            \n",
      "\n",
      "            y_true = [2, 3],\n",
      "            y_pred = [2, 3, 4, 0],\n",
      "            AP@3 = 0.8888888888888888\n",
      "            \n",
      "\n",
      "            y_true = [1, 0],\n",
      "            y_pred = [0, 1, 2],\n",
      "            AP@1 = 1.0\n",
      "            \n",
      "\n",
      "            y_true = [1, 0],\n",
      "            y_pred = [0, 1, 2],\n",
      "            AP@2 = 1.0\n",
      "            \n",
      "\n",
      "            y_true = [1, 0],\n",
      "            y_pred = [0, 1, 2],\n",
      "            AP@3 = 0.8888888888888888\n",
      "            \n",
      "\n",
      "            y_true = [],\n",
      "            y_pred = [0],\n",
      "            AP@1 = 0.0\n",
      "            \n",
      "\n",
      "            y_true = [],\n",
      "            y_pred = [0],\n",
      "            AP@2 = 0.0\n",
      "            \n",
      "\n",
      "            y_true = [],\n",
      "            y_pred = [0],\n",
      "            AP@3 = 0.0\n",
      "            \n"
     ]
    }
   ],
   "source": [
    "y_true = [[1,2,3],[0,2],[1],[2,3],[1,0],[]]\n",
    "y_pred = [[0,1,2],[1],[0,2,3],[2,3,4,0],[0,1,2],[0]]\n",
    "\n",
    "for i in range(len(y_true)):\n",
    "    for j in range(1,4):\n",
    "        print(\n",
    "            f\"\"\"\n",
    "            y_true = {y_true[i]},\n",
    "            y_pred = {y_pred[i]},\n",
    "            AP@{j} = {apk(y_true[i], y_pred[i], k=j)}\n",
    "            \"\"\"\n",
    "        )"
   ]
  },
  {
   "cell_type": "markdown",
   "id": "f0570c88",
   "metadata": {},
   "source": [
    "### Mean average precision at k or MAP@k"
   ]
  },
  {
   "cell_type": "code",
   "execution_count": 120,
   "id": "28d598ac",
   "metadata": {},
   "outputs": [],
   "source": [
    "def mapk(y_true, y_pred, k):\n",
    "    apk_values = []\n",
    "    for i in range(len(y_true)):\n",
    "        # Store apk values for ever sample\n",
    "        apk_values.append(apk(y_true[i], y_pred[i], k=k))\n",
    "    \n",
    "    # return mean of apk values list\n",
    "    return sum(apk_values) / len(apk_values)"
   ]
  },
  {
   "cell_type": "code",
   "execution_count": 121,
   "id": "c11bc2f8",
   "metadata": {},
   "outputs": [
    {
     "data": {
      "text/plain": [
       "0.3333333333333333"
      ]
     },
     "execution_count": 121,
     "metadata": {},
     "output_type": "execute_result"
    }
   ],
   "source": [
    "y_true = [[1,2,3],[0,2],[1],[2,3],[1,0],[]]\n",
    "y_pred = [[0,1,2],[1],[0,2,3],[2,3,4,0],[0,1,2],[0]]\n",
    "\n",
    "mapk(y_true, y_pred, k=1)"
   ]
  },
  {
   "cell_type": "code",
   "execution_count": 122,
   "id": "4fab593d",
   "metadata": {},
   "outputs": [
    {
     "data": {
      "text/plain": [
       "0.375"
      ]
     },
     "execution_count": 122,
     "metadata": {},
     "output_type": "execute_result"
    }
   ],
   "source": [
    "mapk(y_true, y_pred, k=2)"
   ]
  },
  {
   "cell_type": "code",
   "execution_count": 123,
   "id": "420d603b",
   "metadata": {},
   "outputs": [
    {
     "data": {
      "text/plain": [
       "0.3611111111111111"
      ]
     },
     "execution_count": 123,
     "metadata": {},
     "output_type": "execute_result"
    }
   ],
   "source": [
    "mapk(y_true, y_pred, k=3)"
   ]
  },
  {
   "cell_type": "code",
   "execution_count": 124,
   "id": "2bd644b1",
   "metadata": {},
   "outputs": [
    {
     "data": {
      "text/plain": [
       "0.34722222222222215"
      ]
     },
     "execution_count": 124,
     "metadata": {},
     "output_type": "execute_result"
    }
   ],
   "source": [
    "mapk(y_true, y_pred, k=4)"
   ]
  },
  {
   "cell_type": "markdown",
   "id": "52210c9b",
   "metadata": {},
   "source": [
    "## Metrices in Regression\n",
    "### Mean absolute error(MAE)\n",
    "* Absolute Error = Abs(True Value - Predicted Value)"
   ]
  },
  {
   "cell_type": "code",
   "execution_count": 125,
   "id": "c38ff0d0",
   "metadata": {},
   "outputs": [],
   "source": [
    "import numpy as np\n",
    "def mean_absolute_error(y_true, y_pred):\n",
    "    error = 0\n",
    "    for yt, yp in zip(y_true, y_pred):\n",
    "        error += np.abs(yt - yp)\n",
    "    # return mean error\n",
    "    return error / len(y_true)"
   ]
  },
  {
   "cell_type": "markdown",
   "id": "5b6d5d4d",
   "metadata": {},
   "source": [
    "## Mean squared error(MSE)\n",
    "* Squared error = (True Value - Predicted Value)^2\n",
    "* Mean of Squared error"
   ]
  },
  {
   "cell_type": "code",
   "execution_count": 126,
   "id": "b4149a54",
   "metadata": {},
   "outputs": [],
   "source": [
    "def mean_squared_error(y_true, y_pred):\n",
    "    error = 0\n",
    "    for yt, yp in zip(y_true, y_pred):\n",
    "        error += (yt - kp) ** 2\n",
    "        \n",
    "    return error / len(y_true)"
   ]
  },
  {
   "cell_type": "markdown",
   "id": "0a322c2c",
   "metadata": {},
   "source": [
    "### Root mean squared error\n",
    "* RMSE = SQRT(MSE)"
   ]
  },
  {
   "cell_type": "code",
   "execution_count": 128,
   "id": "d86aa8c8",
   "metadata": {},
   "outputs": [],
   "source": [
    "def root_mean_squared_error(y_true, y_pred):\n",
    "    error = 0\n",
    "    for yt, yp in zip(y_true, y_pred):\n",
    "        error += np.sqrt((yt - kp) ** 2)\n",
    "        \n",
    "    return error / len(y_true)"
   ]
  },
  {
   "cell_type": "markdown",
   "id": "1811369c",
   "metadata": {},
   "source": [
    "### Mean squared logarithmic error"
   ]
  },
  {
   "cell_type": "code",
   "execution_count": 129,
   "id": "3c07e770",
   "metadata": {},
   "outputs": [],
   "source": [
    "def mean_squared_logarithmic_error(y_true, y_pred):\n",
    "    error = 0\n",
    "    for yt, yp in zip(y_true, y_pred):\n",
    "        error += (np.log(1 + yt) - np.log(1 + yp)) ** 2\n",
    "        \n",
    "    return error / len(y_true)"
   ]
  },
  {
   "cell_type": "markdown",
   "id": "e1314ec8",
   "metadata": {},
   "source": [
    "### Root mean squared logarithmic error"
   ]
  },
  {
   "cell_type": "code",
   "execution_count": 130,
   "id": "14ccf21f",
   "metadata": {},
   "outputs": [],
   "source": [
    "def root_mean_squared_logarithmic_error(y_true, y_pred):\n",
    "    error = 0\n",
    "    for yt, yp in zip(y_true, y_pred):\n",
    "        error += np.sqrt((np.log(1 + yt) - np.log(1 + yp)) ** 2)\n",
    "        \n",
    "    return error / len(y_true)"
   ]
  },
  {
   "cell_type": "markdown",
   "id": "1b696664",
   "metadata": {},
   "source": [
    "### Mean percentage error\n",
    "* Percentage error = ((True value - Predicted value) / True value) * 100"
   ]
  },
  {
   "cell_type": "markdown",
   "id": "be07473c",
   "metadata": {},
   "source": [
    "### R-squared error"
   ]
  },
  {
   "cell_type": "code",
   "execution_count": 131,
   "id": "e0a5a037",
   "metadata": {},
   "outputs": [],
   "source": [
    "def r2(y_true, y_pred):\n",
    "    # calculate the mean value of true values\n",
    "    mean_true_value = np.mean(y_true)\n",
    "    numerator = 0\n",
    "    denominator = 0\n",
    "    \n",
    "    for yt, tp in zip(y_true, y_pred):\n",
    "        numerator += (yt - yp) ** 2\n",
    "        denominator += (yt - mean_true_value) ** 2\n",
    "    \n",
    "    # calculate the ratio\n",
    "    ratio = numerator / denominator\n",
    "    return 1 - ratio\n",
    "    "
   ]
  },
  {
   "cell_type": "markdown",
   "id": "b9bc8881",
   "metadata": {},
   "source": [
    "### Using numpy finding mean absolute error\n",
    "* It is faster"
   ]
  },
  {
   "cell_type": "code",
   "execution_count": 133,
   "id": "a6dfe175",
   "metadata": {},
   "outputs": [],
   "source": [
    "import numpy as np\n",
    "def mae_np(y_true, y_pred):\n",
    "    return np.mean(np.abs(y_true - y_pred))"
   ]
  },
  {
   "cell_type": "markdown",
   "id": "92c9dc85",
   "metadata": {},
   "source": [
    "### Quadratic weighted kappa\n",
    "* Advanced metrics: also known as QWK. It is also known as Cohen’s kappa. QWK measures the “agreement” between two “ratings”. The ratings can be any real numbers in 0 to N. And predictions are also in the same range. An agreement can be defined as how close these ratings are to each other. So, it’s suitable for a classification problem with N different categories/classes.\n",
    "* If the agreement is high, the score is closer towards 1.0. In the case of low agreement, the score is close to 0."
   ]
  },
  {
   "cell_type": "code",
   "execution_count": 134,
   "id": "c278f65e",
   "metadata": {},
   "outputs": [
    {
     "data": {
      "text/plain": [
       "0.33333333333333337"
      ]
     },
     "execution_count": 134,
     "metadata": {},
     "output_type": "execute_result"
    }
   ],
   "source": [
    "from sklearn import metrics\n",
    "\n",
    "y_true = [1, 2, 3, 1, 2, 3, 1, 2, 3]\n",
    "y_pred = [2, 1, 3, 1, 2, 3, 3, 1, 2]\n",
    "\n",
    "metrics.cohen_kappa_score(y_true, y_pred, weights='quadratic')"
   ]
  },
  {
   "cell_type": "code",
   "execution_count": 135,
   "id": "f1c4f457",
   "metadata": {},
   "outputs": [
    {
     "data": {
      "text/plain": [
       "0.4444444444444444"
      ]
     },
     "execution_count": 135,
     "metadata": {},
     "output_type": "execute_result"
    }
   ],
   "source": [
    "metrics.accuracy_score(y_true, y_pred)"
   ]
  },
  {
   "cell_type": "markdown",
   "id": "5c6a3c1e",
   "metadata": {},
   "source": [
    "- Note: Accuracy is high, QWK is less. A QWK greater than 0.85 is considered to be very good."
   ]
  },
  {
   "cell_type": "markdown",
   "id": "662ff8bc",
   "metadata": {},
   "source": [
    "### Matthew's Correlation Coefficient(MCC)\n",
    "* MCC ranges from -1 to 1. 1 is perfect prediction, -1 is imperfect prediction, and 0 is random prediction.\n",
    "                    TP * TN - FP * FN\n",
    "MCC = ─────────────────────────────────────\n",
    "          [ (TP + FP) * (FN + TN) * (FP + TN) * (TP + FN) ] ^ (0.5)"
   ]
  },
  {
   "cell_type": "code",
   "execution_count": 137,
   "id": "ec7753b1",
   "metadata": {},
   "outputs": [],
   "source": [
    "def mcc(y_true, y_pred):\n",
    "    tp = true_positive(y_true, y_pred)\n",
    "    tn = true_negative(y_true, y_pred)\n",
    "    fp = false_positive(y_true, y_pred)\n",
    "    fn = false_negative(y_true, y_pred)\n",
    "    \n",
    "    numerator = (tp * tn) - (fp * fn)\n",
    "    denominator = ((tp + fp) * (tp * fn) * (tn + fn) * (tn + fp)) ** .5\n",
    "    \n",
    "    return numerator / denominator"
   ]
  },
  {
   "cell_type": "code",
   "execution_count": null,
   "id": "937065f2",
   "metadata": {},
   "outputs": [],
   "source": []
  }
 ],
 "metadata": {
  "kernelspec": {
   "display_name": "Python 3 (ipykernel)",
   "language": "python",
   "name": "python3"
  },
  "language_info": {
   "codemirror_mode": {
    "name": "ipython",
    "version": 3
   },
   "file_extension": ".py",
   "mimetype": "text/x-python",
   "name": "python",
   "nbconvert_exporter": "python",
   "pygments_lexer": "ipython3",
   "version": "3.9.7"
  }
 },
 "nbformat": 4,
 "nbformat_minor": 5
}
